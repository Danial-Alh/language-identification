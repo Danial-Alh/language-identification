{
 "cells": [
  {
   "cell_type": "code",
   "execution_count": null,
   "id": "5c32156f-e323-4af8-b707-c8589aead294",
   "metadata": {},
   "outputs": [],
   "source": [
    "# %%\n",
    "\n",
    "# %load_ext autoreload\n",
    "# %autoreload 2"
   ]
  },
  {
   "cell_type": "code",
   "execution_count": null,
   "id": "9390c118-6db7-40e0-86d5-ea0fb444bd11",
   "metadata": {},
   "outputs": [
    {
     "name": "stderr",
     "output_type": "stream",
     "text": [
      "/home/danial/miniconda3/envs/ukp/lib/python3.12/site-packages/tqdm/auto.py:21: TqdmWarning: IProgress not found. Please update jupyter and ipywidgets. See https://ipywidgets.readthedocs.io/en/stable/user_install.html\n",
      "  from .autonotebook import tqdm as notebook_tqdm\n"
     ]
    }
   ],
   "source": [
    "# %%\n",
    "\n",
    "from functools import partial\n",
    "\n",
    "import matplotlib.pyplot as plt\n",
    "import numpy as np\n",
    "import pandas as pd\n",
    "from datasets import load_dataset\n",
    "from sklearn.feature_extraction.text import TfidfVectorizer\n",
    "from sklearn.linear_model import LogisticRegression\n",
    "from sklearn.metrics import classification_report, confusion_matrix\n",
    "from sklearn.neural_network import MLPClassifier\n",
    "from tqdm.auto import trange\n",
    "from utils import (\n",
    "    ClassEncoder,\n",
    "    NaivePredictor,\n",
    "    char_tokenizer,\n",
    "    save_json,\n",
    "    save_pickle,\n",
    "    set_seed,\n",
    "    subword_tokenizer,\n",
    "    unigram_tokenizer,\n",
    ")"
   ]
  },
  {
   "cell_type": "code",
   "execution_count": null,
   "id": "27f77ccc-4a12-4ee8-a12a-49e7f9d1f498",
   "metadata": {},
   "outputs": [],
   "source": [
    "# %%\n",
    "\n",
    "hf_ds = load_dataset(\"MartinThoma/wili_2018\")\n",
    "\n",
    "tr_df = hf_ds[\"train\"].to_pandas()\n",
    "ts_df = hf_ds[\"test\"].to_pandas()"
   ]
  },
  {
   "cell_type": "code",
   "execution_count": null,
   "id": "458f96e2-4440-4ff7-a02e-0d41ed849133",
   "metadata": {},
   "outputs": [],
   "source": [
    "# %%\n",
    "\n",
    "tr_df[\"label_str\"] = tr_df[\"label\"].apply(\n",
    "    lambda x: hf_ds[\"train\"].info.features[\"label\"].int2str(x)\n",
    ")\n",
    "ts_df[\"label_str\"] = ts_df[\"label\"].apply(\n",
    "    lambda x: hf_ds[\"test\"].info.features[\"label\"].int2str(x)\n",
    ")"
   ]
  },
  {
   "cell_type": "code",
   "execution_count": null,
   "id": "4f1f7b9b-75c5-4c84-bb18-2d8bba1d88c1",
   "metadata": {},
   "outputs": [
    {
     "name": "stdout",
     "output_type": "stream",
     "text": [
      "len(char_set)=10806\n"
     ]
    }
   ],
   "source": [
    "# %%\n",
    "\n",
    "char_set = set()\n",
    "for x in tr_df[\"sentence\"]:\n",
    "    for xx in x:\n",
    "        char_set.add(xx)\n",
    "\n",
    "print(f\"{len(char_set)=}\")"
   ]
  },
  {
   "cell_type": "code",
   "execution_count": null,
   "id": "ba962a9d-4170-4b88-83a8-abe5829409a0",
   "metadata": {},
   "outputs": [],
   "source": [
    "# %%\n",
    "\n",
    "lang_encoder = ClassEncoder(tr_df[\"label_str\"])\n",
    "langs_detector = {}\n",
    "acceptable_f1 = 0.8\n",
    "seed = 1324809\n",
    "set_seed(seed=seed)"
   ]
  },
  {
   "cell_type": "code",
   "execution_count": null,
   "id": "6c25885e-64cc-4c60-8c01-2e578f521d0d",
   "metadata": {},
   "outputs": [
    {
     "name": "stdout",
     "output_type": "stream",
     "text": [
      "build token to langs mapping\n",
      "build token-langs similarity matrix\n",
      "char predictor test: ['orm'] label: est\n"
     ]
    }
   ],
   "source": [
    "# %%\n",
    "\n",
    "char_predictor = NaivePredictor(tokenize_fn=char_tokenizer, lang_encoder=lang_encoder)\n",
    "char_predictor.fit(tr_df)\n",
    "\n",
    "\n",
    "iloc = 0\n",
    "print(\n",
    "    \"char predictor test:\",\n",
    "    char_predictor.predict([tr_df.iloc[iloc][\"sentence\"]]),\n",
    "    \"label:\",\n",
    "    tr_df.iloc[iloc][\"label_str\"],\n",
    ")"
   ]
  },
  {
   "cell_type": "code",
   "execution_count": null,
   "id": "554aeec1-f595-432b-90b0-5fe9c372b2e7",
   "metadata": {},
   "outputs": [
    {
     "name": "stderr",
     "output_type": "stream",
     "text": [
      "100%|██████████| 118/118 [00:10<00:00, 10.75it/s]\n",
      "/home/danial/miniconda3/envs/ukp/lib/python3.12/site-packages/sklearn/metrics/_classification.py:1531: UndefinedMetricWarning: Precision is ill-defined and being set to 0.0 in labels with no predicted samples. Use `zero_division` parameter to control this behavior.\n",
      "  _warn_prf(average, modifier, f\"{metric.capitalize()} is\", len(result))\n",
      "/home/danial/miniconda3/envs/ukp/lib/python3.12/site-packages/sklearn/metrics/_classification.py:1531: UndefinedMetricWarning: Precision is ill-defined and being set to 0.0 in labels with no predicted samples. Use `zero_division` parameter to control this behavior.\n",
      "  _warn_prf(average, modifier, f\"{metric.capitalize()} is\", len(result))\n",
      "/home/danial/miniconda3/envs/ukp/lib/python3.12/site-packages/sklearn/metrics/_classification.py:1531: UndefinedMetricWarning: Precision is ill-defined and being set to 0.0 in labels with no predicted samples. Use `zero_division` parameter to control this behavior.\n",
      "  _warn_prf(average, modifier, f\"{metric.capitalize()} is\", len(result))\n"
     ]
    },
    {
     "name": "stdout",
     "output_type": "stream",
     "text": [
      "              precision    recall  f1-score   support\n",
      "\n",
      "         ace       0.00      0.00      0.00       500\n",
      "         afr       0.33      0.00      0.00       500\n",
      "         als       1.00      0.00      0.01       500\n",
      "         amh       0.99      0.99      0.99       500\n",
      "         ang       1.00      0.88      0.94       500\n",
      "         ara       0.75      0.96      0.84       500\n",
      "         arg       0.00      0.00      0.00       500\n",
      "         arz       0.00      0.00      0.00       500\n",
      "         asm       1.00      0.97      0.98       500\n",
      "         ast       0.58      0.10      0.16       500\n",
      "         ava       0.99      0.24      0.38       500\n",
      "         aym       0.00      0.00      0.00       500\n",
      "         azb       0.96      0.05      0.09       500\n",
      "         aze       0.85      0.98      0.91       500\n",
      "         bak       0.69      0.97      0.81       500\n",
      "         bar       0.00      0.00      0.00       500\n",
      "         bcl       0.00      0.00      0.00       500\n",
      "   be-tarask       0.50      0.97      0.66       500\n",
      "         bel       0.00      0.00      0.00       500\n",
      "         ben       0.47      0.91      0.62       500\n",
      "         bho       0.00      0.00      0.00       500\n",
      "         bjn       0.00      0.00      0.00       500\n",
      "         bod       0.97      1.00      0.98       500\n",
      "         bos       0.31      0.61      0.41       500\n",
      "         bpy       0.00      0.00      0.00       500\n",
      "         bre       0.00      0.00      0.00       500\n",
      "         bul       0.00      0.00      0.00       500\n",
      "         bxr       0.95      0.53      0.68       500\n",
      "         cat       0.00      0.00      0.00       500\n",
      "         cbk       0.00      0.00      0.00       500\n",
      "         cdo       0.89      0.93      0.91       500\n",
      "         ceb       0.00      0.00      0.00       500\n",
      "         ces       0.54      0.94      0.69       500\n",
      "         che       0.00      0.00      0.00       500\n",
      "         chr       1.00      0.98      0.99       500\n",
      "         chv       1.00      0.97      0.98       500\n",
      "         ckb       1.00      0.99      0.99       500\n",
      "         cor       0.00      0.00      0.00       500\n",
      "         cos       0.64      0.65      0.65       500\n",
      "         crh       0.00      0.00      0.00       500\n",
      "         csb       0.88      0.85      0.86       500\n",
      "         cym       0.91      0.08      0.15       500\n",
      "         dan       1.00      0.10      0.19       500\n",
      "         deu       0.20      0.65      0.31       500\n",
      "         diq       0.99      0.47      0.64       500\n",
      "         div       1.00      1.00      1.00       500\n",
      "         dsb       0.83      0.84      0.84       500\n",
      "         dty       0.52      0.35      0.42       500\n",
      "         egl       0.18      0.89      0.30       500\n",
      "         ell       0.54      0.99      0.70       500\n",
      "         eng       0.00      0.00      0.00       500\n",
      "         epo       0.94      0.89      0.92       500\n",
      "         est       0.00      0.00      0.00       500\n",
      "         eus       1.00      0.08      0.14       500\n",
      "         ext       0.50      0.00      0.01       500\n",
      "         fao       0.85      0.65      0.74       500\n",
      "         fas       0.35      0.75      0.48       500\n",
      "         fin       0.28      0.93      0.43       500\n",
      "         fra       0.44      0.54      0.48       500\n",
      "         frp       1.00      0.04      0.08       500\n",
      "         fry       0.96      0.05      0.09       500\n",
      "         fur       0.00      0.00      0.00       500\n",
      "         gag       0.71      0.04      0.08       500\n",
      "         gla       0.98      0.21      0.34       500\n",
      "         gle       0.94      0.86      0.90       500\n",
      "         glg       0.95      0.04      0.08       500\n",
      "         glk       1.00      0.27      0.43       500\n",
      "         glv       0.94      0.18      0.30       500\n",
      "         grn       0.99      0.83      0.91       500\n",
      "         guj       0.99      0.97      0.98       500\n",
      "         hak       0.66      0.93      0.77       500\n",
      "         hat       0.00      0.00      0.00       500\n",
      "         hau       0.98      0.39      0.56       500\n",
      "         hbs       0.19      0.45      0.27       500\n",
      "         heb       0.92      1.00      0.96       500\n",
      "         hif       0.00      0.00      0.00       500\n",
      "         hin       0.34      0.94      0.50       500\n",
      "         hrv       0.13      0.01      0.01       500\n",
      "         hsb       0.98      0.10      0.18       500\n",
      "         hun       0.47      1.00      0.63       500\n",
      "         hye       0.94      0.98      0.96       500\n",
      "         ibo       1.00      0.55      0.71       500\n",
      "         ido       0.94      0.09      0.17       500\n",
      "         ile       0.00      0.00      0.00       500\n",
      "         ilo       0.00      0.00      0.00       500\n",
      "         ina       0.00      0.00      0.00       500\n",
      "         ind       0.00      0.00      0.00       500\n",
      "         isl       0.74      0.99      0.84       500\n",
      "         ita       1.00      0.00      0.00       500\n",
      "         jam       0.00      0.00      0.00       500\n",
      "         jav       0.29      0.00      0.01       500\n",
      "         jbo       0.00      0.00      0.00       500\n",
      "         jpn       0.91      1.00      0.95       500\n",
      "         kaa       0.22      0.94      0.36       500\n",
      "         kab       0.96      0.88      0.92       500\n",
      "         kan       0.79      0.98      0.87       500\n",
      "         kat       0.49      0.99      0.66       500\n",
      "         kaz       0.99      0.98      0.98       500\n",
      "         kbd       0.86      0.99      0.92       500\n",
      "         khm       0.97      0.89      0.93       500\n",
      "         kin       0.80      0.02      0.05       500\n",
      "         kir       0.16      0.99      0.27       500\n",
      "         koi       1.00      0.01      0.02       500\n",
      "         kok       0.67      0.01      0.02       500\n",
      "         kom       0.57      0.46      0.51       500\n",
      "         kor       0.93      0.99      0.96       500\n",
      "         krc       0.64      0.02      0.04       500\n",
      "         ksh       0.85      0.27      0.41       500\n",
      "         kur       0.51      0.99      0.67       500\n",
      "         lad       1.00      0.00      0.00       500\n",
      "         lao       1.00      0.88      0.93       500\n",
      "         lat       0.00      0.00      0.00       500\n",
      "         lav       0.33      0.97      0.50       500\n",
      "         lez       1.00      0.00      0.01       500\n",
      "         lij       0.29      0.67      0.40       500\n",
      "         lim       0.00      0.00      0.00       500\n",
      "         lin       0.87      0.53      0.66       500\n",
      "         lit       0.99      0.72      0.84       500\n",
      "         lmo       0.00      0.00      0.00       500\n",
      "         lrc       1.00      0.39      0.56       500\n",
      "         ltg       0.97      0.39      0.55       500\n",
      "         ltz       0.00      0.00      0.00       500\n",
      "         lug       0.89      0.03      0.07       500\n",
      "         lzh       0.75      1.00      0.86       500\n",
      "         mai       0.00      0.00      0.00       500\n",
      "         mal       1.00      0.99      0.99       500\n",
      "     map-bms       0.00      0.00      0.00       500\n",
      "         mar       0.00      0.00      0.00       500\n",
      "         mdf       0.51      0.90      0.66       500\n",
      "         mhr       0.96      0.18      0.30       500\n",
      "         min       0.00      0.00      0.00       500\n",
      "         mkd       0.17      0.97      0.29       500\n",
      "         mlg       0.99      0.17      0.28       500\n",
      "         mlt       0.93      0.98      0.95       500\n",
      "         mon       0.41      0.97      0.57       500\n",
      "         mri       1.00      0.02      0.04       500\n",
      "         mrj       1.00      0.97      0.99       500\n",
      "         msa       0.00      0.00      0.00       500\n",
      "         mwl       0.00      0.00      0.00       500\n",
      "         mya       0.99      1.00      0.99       500\n",
      "         myv       0.00      0.00      0.00       500\n",
      "         mzn       0.00      0.00      0.00       500\n",
      "         nan       1.00      0.81      0.90       500\n",
      "         nap       0.00      0.00      0.00       500\n",
      "         nav       0.96      1.00      0.98       500\n",
      "         nci       0.87      0.11      0.19       500\n",
      "         nds       0.00      0.00      0.00       500\n",
      "      nds-nl       0.00      0.00      0.00       500\n",
      "         nep       0.42      0.84      0.56       500\n",
      "         new       0.98      0.12      0.21       500\n",
      "         nld       0.00      0.00      0.00       500\n",
      "         nno       0.00      0.00      0.00       500\n",
      "         nob       0.28      0.84      0.42       500\n",
      "         nrm       1.00      0.01      0.02       500\n",
      "         nso       0.00      0.00      0.00       500\n",
      "         oci       0.75      0.02      0.05       500\n",
      "         olo       0.00      0.00      0.00       500\n",
      "         ori       1.00      0.96      0.98       500\n",
      "         orm       0.06      0.95      0.12       500\n",
      "         oss       0.92      0.98      0.95       500\n",
      "         pag       0.00      0.00      0.00       500\n",
      "         pam       0.00      0.00      0.00       500\n",
      "         pan       0.99      0.99      0.99       500\n",
      "         pap       0.00      0.00      0.00       500\n",
      "         pcd       0.00      0.00      0.00       500\n",
      "         pdc       0.00      0.00      0.00       500\n",
      "         pfl       0.93      0.17      0.28       500\n",
      "         pnb       0.61      0.98      0.76       500\n",
      "         pol       0.81      0.97      0.88       500\n",
      "         por       0.86      0.47      0.61       500\n",
      "         pus       0.37      0.95      0.53       500\n",
      "         que       0.61      0.15      0.24       500\n",
      "    roa-tara       0.93      0.46      0.61       500\n",
      "         roh       0.31      0.73      0.44       500\n",
      "         ron       0.79      0.97      0.87       500\n",
      "         rue       0.97      0.23      0.37       500\n",
      "         rup       0.97      0.56      0.71       500\n",
      "         rus       0.00      0.00      0.00       500\n",
      "         sah       0.99      0.72      0.84       500\n",
      "         san       0.35      0.99      0.52       500\n",
      "         scn       0.00      0.00      0.00       500\n",
      "         sco       1.00      0.00      0.01       500\n",
      "         sgs       0.80      1.00      0.89       500\n",
      "         sin       0.99      0.95      0.97       500\n",
      "         slk       0.98      0.67      0.79       500\n",
      "         slv       1.00      0.00      0.00       500\n",
      "         sme       0.95      0.48      0.64       500\n",
      "         sna       0.00      0.00      0.00       500\n",
      "         snd       0.99      0.99      0.99       500\n",
      "         som       0.79      0.06      0.12       500\n",
      "         spa       0.52      0.05      0.09       500\n",
      "         sqi       0.26      0.96      0.41       500\n",
      "         srd       0.00      0.00      0.00       500\n",
      "         srn       1.00      0.00      0.01       500\n",
      "         srp       0.98      0.48      0.65       500\n",
      "         stq       0.67      0.00      0.01       500\n",
      "         sun       1.00      0.13      0.23       500\n",
      "         swa       0.00      0.00      0.00       500\n",
      "         swe       0.91      0.19      0.32       500\n",
      "         szl       0.94      0.89      0.92       500\n",
      "         tam       0.98      0.99      0.98       500\n",
      "         tat       1.00      0.04      0.08       500\n",
      "         tcy       0.99      0.75      0.85       500\n",
      "         tel       1.00      0.95      0.97       500\n",
      "         tet       0.00      0.00      0.00       500\n",
      "         tgk       0.99      0.96      0.97       500\n",
      "         tgl       0.10      0.95      0.18       500\n",
      "         tha       0.89      0.99      0.94       500\n",
      "         ton       0.84      0.98      0.90       500\n",
      "         tsn       0.03      0.98      0.07       500\n",
      "         tuk       0.09      0.99      0.17       500\n",
      "         tur       0.37      0.91      0.53       500\n",
      "         tyv       1.00      0.01      0.01       500\n",
      "         udm       0.99      0.38      0.55       500\n",
      "         uig       0.43      0.99      0.60       500\n",
      "         ukr       0.63      0.85      0.72       500\n",
      "         urd       0.94      0.35      0.51       500\n",
      "         uzb       0.16      0.76      0.26       500\n",
      "         vec       1.00      0.55      0.71       500\n",
      "         vep       0.00      0.00      0.00       500\n",
      "         vie       0.81      0.99      0.89       500\n",
      "         vls       0.00      0.00      0.00       500\n",
      "         vol       0.48      0.84      0.61       500\n",
      "         vro       0.60      0.95      0.73       500\n",
      "         war       0.00      0.00      0.00       500\n",
      "         wln       1.00      0.03      0.06       500\n",
      "         wol       0.54      0.50      0.52       500\n",
      "         wuu       0.94      0.78      0.85       500\n",
      "         xho       0.80      0.16      0.26       500\n",
      "         xmf       0.00      0.00      0.00       500\n",
      "         yid       0.97      0.97      0.97       500\n",
      "         yor       0.81      0.56      0.66       500\n",
      "         zea       0.00      0.00      0.00       500\n",
      "      zh-yue       0.96      0.79      0.87       500\n",
      "         zho       0.83      0.92      0.87       500\n",
      "\n",
      "    accuracy                           0.44    117500\n",
      "   macro avg       0.56      0.44      0.40    117500\n",
      "weighted avg       0.56      0.44      0.40    117500\n",
      "\n"
     ]
    },
    {
     "name": "stderr",
     "output_type": "stream",
     "text": [
      "/home/danial/miniconda3/envs/ukp/lib/python3.12/site-packages/sklearn/metrics/_classification.py:1531: UndefinedMetricWarning: Precision is ill-defined and being set to 0.0 in labels with no predicted samples. Use `zero_division` parameter to control this behavior.\n",
      "  _warn_prf(average, modifier, f\"{metric.capitalize()} is\", len(result))\n",
      "/home/danial/miniconda3/envs/ukp/lib/python3.12/site-packages/sklearn/metrics/_classification.py:1531: UndefinedMetricWarning: Precision is ill-defined and being set to 0.0 in labels with no predicted samples. Use `zero_division` parameter to control this behavior.\n",
      "  _warn_prf(average, modifier, f\"{metric.capitalize()} is\", len(result))\n",
      "/home/danial/miniconda3/envs/ukp/lib/python3.12/site-packages/sklearn/metrics/_classification.py:1531: UndefinedMetricWarning: Precision is ill-defined and being set to 0.0 in labels with no predicted samples. Use `zero_division` parameter to control this behavior.\n",
      "  _warn_prf(average, modifier, f\"{metric.capitalize()} is\", len(result))\n"
     ]
    }
   ],
   "source": [
    "# %%\n",
    "\n",
    "W = 1000\n",
    "preds = [\n",
    "    res\n",
    "    for i in trange(0, ts_df.shape[0], W)\n",
    "    for res in char_predictor.predict(ts_df[\"sentence\"].values[i : i + W])\n",
    "]\n",
    "\n",
    "report = classification_report(ts_df[\"label_str\"], preds)\n",
    "print(report)\n",
    "report = pd.DataFrame(\n",
    "    classification_report(ts_df[\"label_str\"], preds, output_dict=True)\n",
    ").T\n",
    "report = report[report.index.isin(lang_encoder.stoi)]"
   ]
  },
  {
   "cell_type": "code",
   "execution_count": null,
   "id": "d589bd73-636f-42eb-a344-decc1b2253cd",
   "metadata": {},
   "outputs": [
    {
     "data": {
      "image/png": "[encoded data removed]",
      "text/plain": [
       "<Figure size 640x480 with 1 Axes>"
      ]
     },
     "metadata": {},
     "output_type": "display_data"
    },
    {
     "name": "stdout",
     "output_type": "stream",
     "text": [
      "lanuguages detected with chars: 58\n"
     ]
    }
   ],
   "source": [
    "# %%\n",
    "\n",
    "plt.hist(report[\"f1-score\"])\n",
    "plt.show()\n",
    "\n",
    "print(\n",
    "    \"lanuguages detected with chars:\",\n",
    "    (report[\"f1-score\"].sort_values(ascending=False) >= acceptable_f1).sum(),\n",
    ")\n",
    "\n",
    "for lang in report[report[\"f1-score\"] >= acceptable_f1].index:\n",
    "    langs_detector[lang] = \"char\"\n",
    "\n",
    "char_predictor.save(\"data/char-model\")"
   ]
  },
  {
   "cell_type": "code",
   "execution_count": null,
   "id": "de6d2e90-2a80-4a6a-8d93-9ea7524e6adb",
   "metadata": {},
   "outputs": [],
   "source": [
    "# %%\n",
    "\n",
    "remaining_langs = set(report[report[\"f1-score\"] <= 0.8].index.values)\n",
    "curr_tr_df = tr_df[tr_df[\"label_str\"].isin(remaining_langs)]\n",
    "curr_ts_df = ts_df[ts_df[\"label_str\"].isin(remaining_langs)]"
   ]
  },
  {
   "cell_type": "code",
   "execution_count": null,
   "id": "440f2760-5997-426b-b5af-30011a31d05f",
   "metadata": {},
   "outputs": [
    {
     "name": "stdout",
     "output_type": "stream",
     "text": [
      "build token to langs mapping\n",
      "build token-langs similarity matrix\n"
     ]
    },
    {
     "data": {
      "text/plain": [
       "['est']"
      ]
     },
     "execution_count": 11,
     "metadata": {},
     "output_type": "execute_result"
    }
   ],
   "source": [
    "# %%\n",
    "\n",
    "unigram_predictor = NaivePredictor(unigram_tokenizer, lang_encoder)\n",
    "unigram_predictor.fit(curr_tr_df)\n",
    "\n",
    "unigram_predictor.predict([curr_tr_df.iloc[0][\"sentence\"]])  # test"
   ]
  },
  {
   "cell_type": "code",
   "execution_count": null,
   "id": "2edcd452-1f5f-4d36-af64-b3de19f873f2",
   "metadata": {},
   "outputs": [
    {
     "name": "stderr",
     "output_type": "stream",
     "text": [
      "100%|██████████| 89/89 [00:05<00:00, 15.26it/s]\n"
     ]
    },
    {
     "name": "stdout",
     "output_type": "stream",
     "text": [
      "              precision    recall  f1-score   support\n",
      "\n",
      "         ace       0.92      0.99      0.95       500\n",
      "         afr       0.97      1.00      0.98       500\n",
      "         als       0.97      0.95      0.96       500\n",
      "         arg       0.99      0.99      0.99       500\n",
      "         arz       0.97      1.00      0.98       500\n",
      "         ast       0.96      0.97      0.97       500\n",
      "         ava       0.90      0.77      0.83       500\n",
      "         aym       0.99      0.95      0.97       500\n",
      "         azb       0.99      1.00      1.00       500\n",
      "         bar       0.97      0.88      0.92       500\n",
      "         bcl       0.99      0.97      0.98       500\n",
      "   be-tarask       0.84      0.92      0.88       500\n",
      "         bel       0.91      0.81      0.85       500\n",
      "         ben       0.98      0.92      0.95       500\n",
      "         bho       0.99      0.95      0.97       500\n",
      "         bjn       0.97      0.92      0.94       500\n",
      "         bos       0.67      0.73      0.70       500\n",
      "         bpy       1.00      0.99      0.99       500\n",
      "         bre       1.00      0.99      0.99       500\n",
      "         bul       0.99      0.97      0.98       500\n",
      "         bxr       1.00      0.90      0.95       500\n",
      "         cat       0.97      0.98      0.97       500\n",
      "         cbk       0.92      0.74      0.82       500\n",
      "         ceb       1.00      1.00      1.00       500\n",
      "         ces       0.99      0.98      0.99       500\n",
      "         che       1.00      1.00      1.00       500\n",
      "         cor       1.00      1.00      1.00       500\n",
      "         cos       0.98      0.99      0.99       500\n",
      "         crh       0.99      0.97      0.98       500\n",
      "         cym       1.00      0.99      0.99       500\n",
      "         dan       0.98      0.97      0.97       500\n",
      "         deu       0.71      0.97      0.82       500\n",
      "         diq       0.97      0.98      0.98       500\n",
      "         dty       0.91      0.83      0.87       500\n",
      "         egl       0.96      0.97      0.97       500\n",
      "         ell       1.00      0.99      0.99       500\n",
      "         eng       0.38      0.98      0.55       500\n",
      "         est       0.99      0.97      0.98       500\n",
      "         eus       0.99      1.00      1.00       500\n",
      "         ext       1.00      0.96      0.98       500\n",
      "         fao       1.00      1.00      1.00       500\n",
      "         fas       0.82      1.00      0.90       500\n",
      "         fin       0.98      0.99      0.99       500\n",
      "         fra       0.68      1.00      0.81       500\n",
      "         frp       1.00      0.94      0.97       500\n",
      "         fry       0.99      0.99      0.99       500\n",
      "         fur       0.99      0.97      0.98       500\n",
      "         gag       0.96      0.93      0.94       500\n",
      "         gla       0.99      0.99      0.99       500\n",
      "         glg       0.98      0.97      0.97       500\n",
      "         glk       1.00      0.88      0.94       500\n",
      "         glv       0.99      0.99      0.99       500\n",
      "         hak       1.00      0.95      0.97       500\n",
      "         hat       0.99      0.99      0.99       500\n",
      "         hau       0.99      1.00      1.00       500\n",
      "         hbs       0.72      0.68      0.70       500\n",
      "         hif       0.97      0.93      0.95       500\n",
      "         hin       0.95      0.98      0.96       500\n",
      "         hrv       0.72      0.71      0.72       500\n",
      "         hsb       0.98      0.99      0.99       500\n",
      "         hun       0.99      0.99      0.99       500\n",
      "         ibo       0.99      0.88      0.93       500\n",
      "         ido       0.98      0.99      0.98       500\n",
      "         ile       0.99      0.95      0.97       500\n",
      "         ilo       0.98      0.98      0.98       500\n",
      "         ina       0.97      0.98      0.98       500\n",
      "         ind       0.80      0.87      0.83       500\n",
      "         ita       0.87      0.99      0.93       500\n",
      "         jam       1.00      0.99      1.00       500\n",
      "         jav       0.95      0.96      0.95       500\n",
      "         jbo       1.00      1.00      1.00       500\n",
      "         kaa       1.00      0.99      0.99       500\n",
      "         kat       1.00      0.98      0.99       500\n",
      "         kin       0.99      0.95      0.97       500\n",
      "         kir       0.99      0.99      0.99       500\n",
      "         koi       0.96      0.93      0.95       500\n",
      "         kok       1.00      0.93      0.96       500\n",
      "         kom       0.97      0.92      0.94       500\n",
      "         krc       1.00      0.98      0.99       500\n",
      "         ksh       0.99      0.96      0.97       500\n",
      "         kur       0.99      0.98      0.99       500\n",
      "         lad       0.98      0.97      0.97       500\n",
      "         lat       0.97      0.95      0.96       500\n",
      "         lav       0.98      0.98      0.98       500\n",
      "         lez       0.99      0.96      0.98       500\n",
      "         lij       0.99      0.98      0.98       500\n",
      "         lim       0.98      0.99      0.98       500\n",
      "         lin       0.99      0.93      0.96       500\n",
      "         lmo       0.99      0.94      0.97       500\n",
      "         lrc       1.00      0.92      0.96       500\n",
      "         ltg       1.00      0.98      0.99       500\n",
      "         ltz       0.99      0.96      0.98       500\n",
      "         lug       1.00      0.98      0.99       500\n",
      "         mai       0.98      0.94      0.96       500\n",
      "     map-bms       0.94      0.82      0.88       500\n",
      "         mar       1.00      0.97      0.99       500\n",
      "         mdf       0.99      0.96      0.97       500\n",
      "         mhr       0.99      0.96      0.98       500\n",
      "         min       0.96      1.00      0.98       500\n",
      "         mkd       0.99      0.98      0.98       500\n",
      "         mlg       1.00      1.00      1.00       500\n",
      "         mon       0.95      0.99      0.97       500\n",
      "         mri       0.99      1.00      1.00       500\n",
      "         msa       0.92      0.95      0.94       500\n",
      "         mwl       0.99      0.99      0.99       500\n",
      "         myv       0.94      0.85      0.90       500\n",
      "         mzn       0.99      0.93      0.96       500\n",
      "         nap       0.99      0.97      0.98       500\n",
      "         nci       0.97      0.95      0.96       500\n",
      "         nds       0.99      0.97      0.98       500\n",
      "      nds-nl       0.99      0.98      0.98       500\n",
      "         nep       0.85      0.89      0.87       500\n",
      "         new       0.99      0.98      0.99       500\n",
      "         nld       0.96      0.97      0.97       500\n",
      "         nno       0.99      0.98      0.98       500\n",
      "         nob       0.96      0.98      0.97       500\n",
      "         nrm       0.99      0.99      0.99       500\n",
      "         nso       0.99      0.94      0.97       500\n",
      "         oci       0.99      0.87      0.93       500\n",
      "         olo       0.99      0.99      0.99       500\n",
      "         orm       0.99      0.98      0.98       500\n",
      "         pag       1.00      0.90      0.94       500\n",
      "         pam       0.97      0.96      0.96       500\n",
      "         pap       0.99      0.97      0.98       500\n",
      "         pcd       0.93      0.75      0.83       500\n",
      "         pdc       0.96      0.89      0.92       500\n",
      "         pfl       0.94      0.93      0.93       500\n",
      "         pnb       1.00      0.98      0.99       500\n",
      "         por       0.94      0.98      0.96       500\n",
      "         pus       0.99      0.97      0.98       500\n",
      "         que       0.97      0.95      0.96       500\n",
      "    roa-tara       0.99      0.97      0.98       500\n",
      "         roh       0.99      0.98      0.99       500\n",
      "         rue       0.99      0.96      0.97       500\n",
      "         rup       1.00      0.91      0.95       500\n",
      "         rus       0.72      0.99      0.83       500\n",
      "         san       1.00      0.99      0.99       500\n",
      "         scn       0.99      0.99      0.99       500\n",
      "         sco       0.96      0.96      0.96       500\n",
      "         slk       0.98      1.00      0.99       500\n",
      "         slv       0.98      0.97      0.98       500\n",
      "         sme       0.99      0.97      0.98       500\n",
      "         sna       0.99      0.94      0.97       500\n",
      "         som       0.99      0.95      0.97       500\n",
      "         spa       0.76      0.90      0.82       500\n",
      "         sqi       0.99      0.98      0.99       500\n",
      "         srd       0.99      0.98      0.99       500\n",
      "         srn       1.00      0.98      0.99       500\n",
      "         srp       0.99      0.93      0.96       500\n",
      "         stq       1.00      0.98      0.99       500\n",
      "         sun       1.00      0.96      0.98       500\n",
      "         swa       1.00      0.97      0.98       500\n",
      "         swe       0.99      1.00      0.99       500\n",
      "         tat       1.00      0.98      0.99       500\n",
      "         tet       0.99      0.90      0.95       500\n",
      "         tgl       0.97      0.99      0.98       500\n",
      "         tsn       0.96      0.98      0.97       500\n",
      "         tuk       0.99      1.00      1.00       500\n",
      "         tur       0.91      0.99      0.95       500\n",
      "         tyv       1.00      0.99      0.99       500\n",
      "         udm       0.99      0.98      0.98       500\n",
      "         uig       1.00      0.99      1.00       500\n",
      "         ukr       0.99      0.98      0.99       500\n",
      "         urd       0.99      0.99      0.99       500\n",
      "         uzb       1.00      0.99      1.00       500\n",
      "         vec       0.99      0.97      0.98       500\n",
      "         vep       1.00      0.99      0.99       500\n",
      "         vls       0.97      0.98      0.98       500\n",
      "         vol       0.99      1.00      1.00       500\n",
      "         vro       1.00      0.97      0.98       500\n",
      "         war       0.99      1.00      0.99       500\n",
      "         wln       0.99      1.00      0.99       500\n",
      "         wol       0.98      0.96      0.97       500\n",
      "         xho       1.00      0.94      0.97       500\n",
      "         xmf       1.00      0.97      0.98       500\n",
      "         yor       0.99      0.90      0.94       500\n",
      "         zea       0.99      0.96      0.97       500\n",
      "\n",
      "    accuracy                           0.96     88500\n",
      "   macro avg       0.96      0.96      0.96     88500\n",
      "weighted avg       0.96      0.96      0.96     88500\n",
      "\n"
     ]
    }
   ],
   "source": [
    "# %%\n",
    "\n",
    "W = 1000\n",
    "preds = [\n",
    "    res\n",
    "    for i in trange(0, curr_ts_df.shape[0], W)\n",
    "    for res in unigram_predictor.predict(curr_ts_df[\"sentence\"].values[i : i + W])\n",
    "]\n",
    "\n",
    "report = classification_report(curr_ts_df[\"label_str\"], preds)\n",
    "print(report)\n",
    "report = pd.DataFrame(\n",
    "    classification_report(curr_ts_df[\"label_str\"], preds, output_dict=True)\n",
    ").T\n",
    "report = report[report.index.isin(lang_encoder.stoi)]"
   ]
  },
  {
   "cell_type": "code",
   "execution_count": null,
   "id": "ebabae04-02ec-4270-8abd-82c1e298bd8f",
   "metadata": {},
   "outputs": [
    {
     "data": {
      "image/png": "[encoded data removed]",
      "text/plain": [
       "<Figure size 640x480 with 1 Axes>"
      ]
     },
     "metadata": {},
     "output_type": "display_data"
    },
    {
     "name": "stdout",
     "output_type": "stream",
     "text": [
      "lanuguages detected with unigrams: 173\n"
     ]
    }
   ],
   "source": [
    "# %%\n",
    "\n",
    "plt.hist(report[\"f1-score\"])\n",
    "plt.show()\n",
    "\n",
    "print(\n",
    "    \"lanuguages detected with unigrams:\",\n",
    "    (report[\"f1-score\"].sort_values(ascending=False) >= acceptable_f1).sum(),\n",
    ")\n",
    "\n",
    "\n",
    "for lang in report[report[\"f1-score\"] >= acceptable_f1].index:\n",
    "    langs_detector[lang] = \"unigram\"\n",
    "\n",
    "unigram_predictor.save(\"data/unigram-model\")"
   ]
  },
  {
   "cell_type": "code",
   "execution_count": null,
   "id": "f9a11cdb-f52d-40d2-a451-e358d0c5ac05",
   "metadata": {},
   "outputs": [],
   "source": [
    "# %%\n",
    "\n",
    "remaining_langs = set(report[report[\"f1-score\"] <= 0.8].index.values)\n",
    "curr_tr_df = tr_df[tr_df[\"label_str\"].isin(remaining_langs)]\n",
    "curr_ts_df = ts_df[ts_df[\"label_str\"].isin(remaining_langs)]"
   ]
  },
  {
   "cell_type": "code",
   "execution_count": null,
   "id": "737b4c35-95f5-458a-85b3-2143a5432a71",
   "metadata": {},
   "outputs": [
    {
     "name": "stdout",
     "output_type": "stream",
     "text": [
      "build token to langs mapping\n",
      "build token-langs similarity matrix\n"
     ]
    },
    {
     "data": {
      "text/plain": [
       "['hbs']"
      ]
     },
     "execution_count": 15,
     "metadata": {},
     "output_type": "execute_result"
    }
   ],
   "source": [
    "# %%\n",
    "\n",
    "subword_len = 3\n",
    "\n",
    "subword_predictor = NaivePredictor(\n",
    "    tokenize_fn=partial(subword_tokenizer, w=subword_len), lang_encoder=lang_encoder\n",
    ")\n",
    "subword_predictor.fit(curr_tr_df)\n",
    "\n",
    "subword_predictor.predict([curr_tr_df.iloc[0][\"sentence\"]])  # test"
   ]
  },
  {
   "cell_type": "code",
   "execution_count": null,
   "id": "76e98d35-a4a0-4882-9dbb-b949a52361a7",
   "metadata": {},
   "outputs": [
    {
     "name": "stderr",
     "output_type": "stream",
     "text": [
      "100%|██████████| 2/2 [00:00<00:00,  6.82it/s]"
     ]
    },
    {
     "name": "stdout",
     "output_type": "stream",
     "text": [
      "              precision    recall  f1-score   support\n",
      "\n",
      "         bos       0.66      0.68      0.67       500\n",
      "         eng       0.93      1.00      0.96       500\n",
      "         hbs       0.62      0.70      0.66       500\n",
      "         hrv       0.72      0.55      0.62       500\n",
      "\n",
      "    accuracy                           0.73      2000\n",
      "   macro avg       0.73      0.73      0.73      2000\n",
      "weighted avg       0.73      0.73      0.73      2000\n",
      "\n",
      "lanuguages detected with subwords: 1\n"
     ]
    },
    {
     "name": "stderr",
     "output_type": "stream",
     "text": [
      "\n"
     ]
    }
   ],
   "source": [
    "# %%\n",
    "\n",
    "W = 1000\n",
    "preds = [\n",
    "    res\n",
    "    for i in trange(0, curr_ts_df.shape[0], W)\n",
    "    for res in subword_predictor.predict(curr_ts_df[\"sentence\"].values[i : i + W])\n",
    "]\n",
    "\n",
    "report = classification_report(curr_ts_df[\"label_str\"], preds)\n",
    "print(report)\n",
    "report = pd.DataFrame(\n",
    "    classification_report(curr_ts_df[\"label_str\"], preds, output_dict=True)\n",
    ").T\n",
    "report = report[report.index.isin(lang_encoder.stoi)]\n",
    "\n",
    "print(\n",
    "    \"lanuguages detected with subwords:\",\n",
    "    (report[\"f1-score\"].sort_values(ascending=False) >= acceptable_f1).sum(),\n",
    ")\n",
    "\n",
    "for lang in report[report[\"f1-score\"] >= acceptable_f1].index:\n",
    "    langs_detector[lang] = \"subword\"\n",
    "\n",
    "subword_predictor.save(\"data/subword-model\")"
   ]
  },
  {
   "cell_type": "code",
   "execution_count": null,
   "id": "fe51d9ae-8d36-4a8a-a0ac-acab3a32670f",
   "metadata": {},
   "outputs": [
    {
     "name": "stdout",
     "output_type": "stream",
     "text": [
      "              precision    recall  f1-score   support\n",
      "\n",
      "         bos       0.66      0.68      0.67       500\n",
      "         eng       0.00      0.00      0.00         0\n",
      "         hbs       0.62      0.70      0.66       500\n",
      "         hrv       0.72      0.55      0.62       500\n",
      "\n",
      "    accuracy                           0.64      1500\n",
      "   macro avg       0.50      0.48      0.49      1500\n",
      "weighted avg       0.67      0.64      0.65      1500\n",
      "\n"
     ]
    },
    {
     "name": "stderr",
     "output_type": "stream",
     "text": [
      "/home/danial/miniconda3/envs/ukp/lib/python3.12/site-packages/sklearn/metrics/_classification.py:1531: UndefinedMetricWarning: Recall is ill-defined and being set to 0.0 in labels with no true samples. Use `zero_division` parameter to control this behavior.\n",
      "  _warn_prf(average, modifier, f\"{metric.capitalize()} is\", len(result))\n",
      "/home/danial/miniconda3/envs/ukp/lib/python3.12/site-packages/sklearn/metrics/_classification.py:1531: UndefinedMetricWarning: Recall is ill-defined and being set to 0.0 in labels with no true samples. Use `zero_division` parameter to control this behavior.\n",
      "  _warn_prf(average, modifier, f\"{metric.capitalize()} is\", len(result))\n",
      "/home/danial/miniconda3/envs/ukp/lib/python3.12/site-packages/sklearn/metrics/_classification.py:1531: UndefinedMetricWarning: Recall is ill-defined and being set to 0.0 in labels with no true samples. Use `zero_division` parameter to control this behavior.\n",
      "  _warn_prf(average, modifier, f\"{metric.capitalize()} is\", len(result))\n"
     ]
    }
   ],
   "source": [
    "# %%\n",
    "\n",
    "remaining_langs = set(report[report[\"f1-score\"] < acceptable_f1].index.values)\n",
    "\n",
    "mask = [\n",
    "    preds[i] in remaining_langs or curr_ts_df[\"label_str\"].iloc[i] in remaining_langs\n",
    "    for i in range(len(preds))\n",
    "]\n",
    "\n",
    "preds = np.array(preds)\n",
    "\n",
    "\n",
    "print(classification_report(curr_ts_df.loc[mask][\"label_str\"], preds[mask]))"
   ]
  },
  {
   "cell_type": "code",
   "execution_count": null,
   "id": "c3336cf1-dfa1-4665-a10a-955ef8e87c09",
   "metadata": {},
   "outputs": [
    {
     "data": {
      "image/png": "[encoded data removed]",
      "text/plain": [
       "<Figure size 640x480 with 1 Axes>"
      ]
     },
     "metadata": {},
     "output_type": "display_data"
    }
   ],
   "source": [
    "# %%\n",
    "\n",
    "temp_labels = sorted(\n",
    "    set(list(curr_ts_df.loc[mask][\"label_str\"].unique()) + list(preds[mask]))\n",
    ")\n",
    "conf_matrix = confusion_matrix(\n",
    "    curr_ts_df.loc[mask][\"label_str\"], preds[mask], labels=temp_labels\n",
    ")\n",
    "\n",
    "fig, ax = plt.subplots()\n",
    "ax.imshow(conf_matrix)\n",
    "ax.set_xticks(np.arange(len(temp_labels)), labels=temp_labels)  # pred\n",
    "ax.set_yticks(np.arange(len(temp_labels)), labels=temp_labels)  # true\n",
    "\n",
    "for i in range(len(temp_labels)):\n",
    "    for j in range(len(temp_labels)):\n",
    "        text = ax.text(j, i, conf_matrix[i, j], ha=\"center\", va=\"center\", color=\"w\")\n",
    "plt.show()"
   ]
  },
  {
   "cell_type": "code",
   "execution_count": null,
   "id": "f1cddc68-9af6-48c6-a4bf-40145cd4e4b0",
   "metadata": {},
   "outputs": [],
   "source": [
    "# %%\n",
    "\n",
    "curr_tr_df = tr_df[tr_df[\"label_str\"].isin(remaining_langs)]\n",
    "curr_ts_df = ts_df[ts_df[\"label_str\"].isin(remaining_langs)]"
   ]
  },
  {
   "cell_type": "code",
   "execution_count": null,
   "id": "d5d00598-bbc7-4907-ad83-4fcdbf8bb388",
   "metadata": {},
   "outputs": [
    {
     "name": "stdout",
     "output_type": "stream",
     "text": [
      "(1500, 28960)\n",
      "predicting\n",
      "              precision    recall  f1-score   support\n",
      "\n",
      "         bos       0.78      0.76      0.77       500\n",
      "         hbs       0.76      0.72      0.74       500\n",
      "         hrv       0.73      0.78      0.75       500\n",
      "\n",
      "    accuracy                           0.76      1500\n",
      "   macro avg       0.76      0.76      0.76      1500\n",
      "weighted avg       0.76      0.76      0.76      1500\n",
      "\n"
     ]
    }
   ],
   "source": [
    "# %%\n",
    "\n",
    "tfidf_model = TfidfVectorizer(\n",
    "    lowercase=True,\n",
    "    min_df=1,\n",
    "    use_idf=True,\n",
    "    ngram_range=(1, 1),\n",
    ")\n",
    "X = tfidf_model.fit_transform(curr_tr_df[\"sentence\"])\n",
    "\n",
    "print(X.shape)\n",
    "\n",
    "logistic_model = LogisticRegression(C=100)\n",
    "logistic_model.fit(X, curr_tr_df[\"label_str\"])\n",
    "\n",
    "print(\"predicting\")\n",
    "X_ts = tfidf_model.transform(curr_ts_df[\"sentence\"])\n",
    "preds = logistic_model.predict(X_ts)\n",
    "\n",
    "report = classification_report(curr_ts_df[\"label_str\"], preds)\n",
    "print(report)\n",
    "report = pd.DataFrame(\n",
    "    classification_report(curr_ts_df[\"label_str\"], preds, output_dict=True)\n",
    ").T"
   ]
  },
  {
   "cell_type": "code",
   "execution_count": null,
   "id": "00c579fe-0d16-4e9f-8885-af1e09ccca63",
   "metadata": {},
   "outputs": [
    {
     "name": "stdout",
     "output_type": "stream",
     "text": [
      "predicting\n",
      "              precision    recall  f1-score   support\n",
      "\n",
      "         bos       0.78      0.81      0.79       500\n",
      "         hbs       0.78      0.77      0.78       500\n",
      "         hrv       0.79      0.78      0.79       500\n",
      "\n",
      "    accuracy                           0.78      1500\n",
      "   macro avg       0.78      0.78      0.78      1500\n",
      "weighted avg       0.78      0.78      0.78      1500\n",
      "\n",
      "lanuguages detected with mlp classifier: 3\n"
     ]
    }
   ],
   "source": [
    "# %%\n",
    "\n",
    "mlp_model = MLPClassifier(\n",
    "    hidden_layer_sizes=(100, 100),\n",
    "    activation=\"relu\",\n",
    "    learning_rate_init=1e-3,\n",
    ")\n",
    "\n",
    "mlp_model.fit(X, curr_tr_df[\"label_str\"])\n",
    "\n",
    "print(\"predicting\")\n",
    "preds = mlp_model.predict(X_ts)\n",
    "\n",
    "report = classification_report(curr_ts_df[\"label_str\"], preds)\n",
    "print(report)\n",
    "report = pd.DataFrame(\n",
    "    classification_report(curr_ts_df[\"label_str\"], preds, output_dict=True)\n",
    ").T\n",
    "report = report[report.index.isin(lang_encoder.stoi)]\n",
    "\n",
    "print(\"lanuguages detected with mlp classifier:\", report.shape[0])\n",
    "\n",
    "for lang in report.index:\n",
    "    langs_detector[lang] = \"mlp\"\n",
    "\n",
    "save_pickle(mlp_model, \"data/mlp-model\")"
   ]
  },
  {
   "cell_type": "code",
   "execution_count": null,
   "id": "85d6307e-d237-435e-83f1-852bcf8bece9",
   "metadata": {},
   "outputs": [],
   "source": [
    "# %%\n",
    "\n",
    "save_json(langs_detector, \"data/langs-detector.json\")"
   ]
  },
  {
   "cell_type": "code",
   "execution_count": null,
   "id": "ec4aae1a-de13-4885-ba9e-4fda32e6965c",
   "metadata": {},
   "outputs": [
    {
     "data": {
      "image/png": "[encoded data removed]",
      "text/plain": [
       "<Figure size 640x480 with 1 Axes>"
      ]
     },
     "metadata": {},
     "output_type": "display_data"
    }
   ],
   "source": [
    "# %%\n",
    "\n",
    "temp_labels = sorted(set(list(curr_ts_df[\"label_str\"].unique()) + list(preds)))\n",
    "conf_matrix = confusion_matrix(curr_ts_df[\"label_str\"], preds, labels=temp_labels)\n",
    "\n",
    "fig, ax = plt.subplots()\n",
    "ax.imshow(conf_matrix)\n",
    "ax.set_xticks(np.arange(len(temp_labels)), labels=temp_labels)  # pred\n",
    "ax.set_yticks(np.arange(len(temp_labels)), labels=temp_labels)  # true\n",
    "\n",
    "for i in range(len(temp_labels)):\n",
    "    for j in range(len(temp_labels)):\n",
    "        text = ax.text(j, i, conf_matrix[i, j], ha=\"center\", va=\"center\", color=\"w\")\n",
    "plt.show()"
   ]
  },
  {
   "cell_type": "code",
   "execution_count": null,
   "id": "e039231d-3a31-4625-b0dd-574103108eba",
   "metadata": {},
   "outputs": [
    {
     "name": "stdout",
     "output_type": "stream",
     "text": [
      "                                                 sentence  label label_str\n",
      "464     Modernizovana verzija Leopard 2 tenka, moderni...     52       bos\n",
      "571     Suprotno uvriježenom mišljenju, velika većina ...     52       bos\n",
      "603     Reakcioni presjek σ je mjera vjerovatnoće fuzi...     52       bos\n",
      "906     Polupropusna membrana je membrana koja dozvolj...     52       bos\n",
      "1219    2010. godine dr. Čolakoviću je posthumno dodje...     52       bos\n",
      "...                                                   ...    ...       ...\n",
      "115780  Tim istraživača kojeg su predvodili Johannes K...     52       bos\n",
      "116156  Ovo sve ukazuje na to da je velika mogučnost d...     52       bos\n",
      "116740  Leopard 2A4CHL – je nadograđena verzija čilean...     52       bos\n",
      "117178  Trema ( ˙˙ ) pokazuje samostalnost slova nad k...     52       bos\n",
      "117345  Košljoribe su su primitivna ektotermne (hladno...     52       bos\n",
      "\n",
      "[403 rows x 3 columns]\n"
     ]
    }
   ],
   "source": [
    "# %%\n",
    "\n",
    "print(curr_ts_df[(preds == \"bos\") & (curr_ts_df[\"label_str\"] == \"bos\")])\n",
    "\n",
    "# I checked some 'hbs' and 'hrv' languages in the google translate. all of them were crotian. maybe it is also hard for google to detect it they are same langs and it is the problem of the datset\n",
    "\n",
    "# bos but google detected crotians:\n",
    "# U periodu do 9. vijeka brojna mala kraljevstva...\n",
    "# Rodio se u Zürichu, Švicarska gdje je na ETH p...\n",
    "# Prva procjena Michaela Todda za proračun filma...\n",
    "# Američka mornarica je tako razvila i posebnu...\n",
    "# Terorizam je smišljena upotreba nezakonitog...\n",
    "# Interni monolog: kada glumac priča kao da se o...\n",
    "\n",
    "# bos but correctly predicted and google disagreed:\n",
    "# Ovo sve ukazuje na to da je velika mogučnost ...\n",
    "# Suprotno uvriježenom mišljenju, velika većina ...\n",
    "# Košljoribe su su primitivna ektotermne (hladnokrvne), ...\n",
    "\n",
    "# google agreed on bos:\n",
    "# Modernizovana verzija Leopard 2 tenka, modernizovana ..."
   ]
  }
 ],
 "metadata": {
  "language_info": {
   "codemirror_mode": {
    "name": "ipython",
    "version": 3
   },
   "file_extension": ".py",
   "mimetype": "text/x-python",
   "name": "python",
   "nbconvert_exporter": "python",
   "pygments_lexer": "ipython3",
   "version": 3
  }
 },
 "nbformat": 4,
 "nbformat_minor": 2
}
